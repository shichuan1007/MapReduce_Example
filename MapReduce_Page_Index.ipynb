{
 "cells": [
  {
   "cell_type": "code",
   "execution_count": 1,
   "metadata": {
    "collapsed": true
   },
   "outputs": [],
   "source": [
    "# for a small data, we can just use the function below to index word\n",
    "def split_dic(book):\n",
    "    index={}\n",
    "    i =1\n",
    "    for page in book:\n",
    "        for word in page:\n",
    "            if word in index:\n",
    "                if i not in index[word]:\n",
    "                    index[word].append(i)                             \n",
    "            else:\n",
    "                index[word] = [i]                \n",
    "        i=i+1\n",
    "    return index"
   ]
  },
  {
   "cell_type": "code",
   "execution_count": 4,
   "metadata": {
    "collapsed": true
   },
   "outputs": [],
   "source": [
    "book = [[\"Mary\", \"Lamb\", \"Had\", \"A\"],[\"Little\", \"Lamb\",\"A\",\"Lamb\"]]"
   ]
  },
  {
   "cell_type": "code",
   "execution_count": 5,
   "metadata": {},
   "outputs": [
    {
     "data": {
      "text/plain": [
       "{'A': [1, 2], 'Had': [1], 'Lamb': [1, 2], 'Little': [2], 'Mary': [1]}"
      ]
     },
     "execution_count": 5,
     "metadata": {},
     "output_type": "execute_result"
    }
   ],
   "source": [
    "split_dic(book)"
   ]
  },
  {
   "cell_type": "code",
   "execution_count": 6,
   "metadata": {
    "collapsed": true
   },
   "outputs": [],
   "source": [
    "from functools import reduce\n",
    "\n",
    "def mapper(book):\n",
    "    index=[]\n",
    "    index2 = []\n",
    "    for i, page in enumerate(book):\n",
    "        index.append(list(map(lambda word: (word, i+1), page)))\n",
    "    for m in index:\n",
    "        for n in m:\n",
    "            index2.append(n)\n",
    "    return index2"
   ]
  },
  {
   "cell_type": "code",
   "execution_count": 7,
   "metadata": {},
   "outputs": [
    {
     "data": {
      "text/plain": [
       "{'A': [1, 2], 'Had': [1], 'Lamb': [1, 2], 'Little': [2], 'Mary': [1]}"
      ]
     },
     "execution_count": 7,
     "metadata": {},
     "output_type": "execute_result"
    }
   ],
   "source": [
    "def reducer(x, y):\n",
    "    if isinstance(x, dict):\n",
    "        ykey, yval = y\n",
    "        if ykey in x:\n",
    "            if yval not in x[ykey]:\n",
    "                x[ykey].append(yval)\n",
    "        else:\n",
    "            x[ykey] = [yval]\n",
    "        return x\n",
    "    else:\n",
    "        xkey, xval = x\n",
    "        ykey, yval = y\n",
    "        index={xkey:[xval]}\n",
    "        if ykey in index:\n",
    "            if yval not in index[ykey]:\n",
    "                index[ykey].append(yval)\n",
    "        else:\n",
    "            index[ykey] = [yval]\n",
    "        return index\n",
    "    \n",
    "reduce(reducer, mapper(book))"
   ]
  },
  {
   "cell_type": "code",
   "execution_count": 4,
   "metadata": {},
   "outputs": [
    {
     "name": "stdout",
     "output_type": "stream",
     "text": [
      "{'a': [1], 'Mary': [1], 'had': [1], 'lamb': [1, 2], 'little': [2]}\n"
     ]
    }
   ],
   "source": [
    "# Another Way\n",
    "from functools import reduce\n",
    "\n",
    "book_text = [[\"Mary\", \"lamb\", \"had\", \"a\"], [\"little\", \"lamb\"]] \n",
    "uniques = set(reduce(lambda x,y: x+y, book_text))\n",
    "pages = [reduce(lambda x,y: [x,y], map(lambda x: x[0]+1 if u in x[1] else None, enumerate(book_text))) for u in uniques]\n",
    "pages_filtered = map(lambda x: list(filter(lambda y: y is not None, x)), pages) \n",
    "index = dict(zip(uniques, pages_filtered))\n",
    "print(index)"
   ]
  },
  {
   "cell_type": "code",
   "execution_count": null,
   "metadata": {
    "collapsed": true
   },
   "outputs": [],
   "source": []
  }
 ],
 "metadata": {
  "kernelspec": {
   "display_name": "Python 3",
   "language": "python",
   "name": "python3"
  },
  "language_info": {
   "codemirror_mode": {
    "name": "ipython",
    "version": 3
   },
   "file_extension": ".py",
   "mimetype": "text/x-python",
   "name": "python",
   "nbconvert_exporter": "python",
   "pygments_lexer": "ipython3",
   "version": "3.6.1"
  }
 },
 "nbformat": 4,
 "nbformat_minor": 2
}
